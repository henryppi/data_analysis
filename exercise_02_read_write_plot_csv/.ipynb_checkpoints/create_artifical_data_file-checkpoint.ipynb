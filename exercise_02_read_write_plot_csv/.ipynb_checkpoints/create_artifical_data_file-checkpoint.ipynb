{
 "cells": [
  {
   "cell_type": "code",
   "execution_count": 1,
   "metadata": {},
   "outputs": [],
   "source": [
    "import numpy as np\n",
    "\n",
    "filename = 'measurement_jupyter.csv'\n",
    "\n",
    "tStart = 0\n",
    "tEnd = 100\n",
    "nTimeSteps = 1000\n",
    "\n",
    "y0 = 1\n",
    "mass = 0.5\n",
    "damp = 0.05\n",
    "spring = 2.0\n",
    "noise_amp = 0.05\n",
    "\n",
    "omega0 = np.sqrt(mass/spring)\n",
    "\n",
    "t = np.linspace(tStart,tEnd,nTimeSteps)\n",
    "y_noise = noise_amp*(np.random.randn(nTimeSteps) -0.5)\n",
    "y = y0*np.cos(omega0*t)*np.exp(-damp*t) + y_noise\n",
    "\n",
    "data = np.zeros([nTimeSteps,2],float)\n",
    "data[:,0] = t\n",
    "data[:,1] = y\n",
    "\n",
    "np.savetxt(filename,data,delimiter=\",\")"
   ]
  }
 ],
 "metadata": {
  "kernelspec": {
   "display_name": "Python 3",
   "language": "python",
   "name": "python3"
  },
  "language_info": {
   "codemirror_mode": {
    "name": "ipython",
    "version": 3
   },
   "file_extension": ".py",
   "mimetype": "text/x-python",
   "name": "python",
   "nbconvert_exporter": "python",
   "pygments_lexer": "ipython3",
   "version": "3.6.9"
  }
 },
 "nbformat": 4,
 "nbformat_minor": 4
}
