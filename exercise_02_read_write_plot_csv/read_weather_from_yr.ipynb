{
 "cells": [
  {
   "cell_type": "code",
   "execution_count": 1,
   "metadata": {},
   "outputs": [
    {
     "name": "stdout",
     "output_type": "stream",
     "text": [
      "current temperature = 8.0\n"
     ]
    }
   ],
   "source": [
    "from yr.libyr import Yr\n",
    "import json\n",
    "\n",
    "# installed python-yr with:\n",
    "# python -m pip install python-yr\n",
    "\n",
    "# loc = 'Norway/Møre_og_Romsdal/Ålesund/Furumyra'\n",
    "# loc = 'Norway/Møre_og_Romsdal/Ålesund/Ålesund'\n",
    "loc = 'Norway/Møre_og_Romsdal/Ålesund/Nørvasundet'\n",
    "weather = Yr(location_name=loc)\n",
    "now = weather.now(as_json=True)\n",
    "jobj = json.loads(now)\n",
    "temp = float(jobj['temperature']['@value'])\n",
    "print('current temperature =',temp)\n"
   ]
  }
 ],
 "metadata": {
  "kernelspec": {
   "display_name": "Python 3",
   "language": "python",
   "name": "python3"
  },
  "language_info": {
   "codemirror_mode": {
    "name": "ipython",
    "version": 3
   },
   "file_extension": ".py",
   "mimetype": "text/x-python",
   "name": "python",
   "nbconvert_exporter": "python",
   "pygments_lexer": "ipython3",
   "version": "3.7.6"
  }
 },
 "nbformat": 4,
 "nbformat_minor": 4
}
